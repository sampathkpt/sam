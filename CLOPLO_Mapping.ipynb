{
 "cells": [
  {
   "cell_type": "markdown",
   "metadata": {
    "id": "d22uW_pcdDeE"
   },
   "source": [
    "## Installing necessary libraries"
   ]
  },
  {
   "cell_type": "code",
   "execution_count": 1,
   "metadata": {
    "colab": {
     "base_uri": "https://localhost:8080/"
    },
    "id": "v8ZuX4k9bzSk",
    "outputId": "8e479c7c-3db8-4dd7-dea7-2a60f64f9061"
   },
   "outputs": [
    {
     "name": "stdout",
     "output_type": "stream",
     "text": [
      "Requirement already satisfied: docx2txt in c:\\users\\nzaki\\anaconda3\\lib\\site-packages (0.8)\n"
     ]
    }
   ],
   "source": [
    "!pip install docx2txt"
   ]
  },
  {
   "cell_type": "code",
   "execution_count": 2,
   "metadata": {
    "colab": {
     "base_uri": "https://localhost:8080/"
    },
    "id": "jwKJ-FDrbzNU",
    "outputId": "97885571-23fc-47c8-95ff-d9d7ff8563b7"
   },
   "outputs": [
    {
     "name": "stdout",
     "output_type": "stream",
     "text": [
      "Requirement already satisfied: strsimpy in c:\\users\\nzaki\\anaconda3\\lib\\site-packages (0.2.1)\n"
     ]
    }
   ],
   "source": [
    "!pip install strsimpy"
   ]
  },
  {
   "cell_type": "code",
   "execution_count": 3,
   "metadata": {
    "colab": {
     "base_uri": "https://localhost:8080/"
    },
    "id": "OOrdvc8wbzJ8",
    "outputId": "55e6fe0b-acb1-485c-9273-8c1a12be240e"
   },
   "outputs": [
    {
     "name": "stdout",
     "output_type": "stream",
     "text": [
      "Requirement already satisfied: docx2csv in c:\\users\\nzaki\\anaconda3\\lib\\site-packages (0.1.0)\n",
      "Requirement already satisfied: click in c:\\users\\nzaki\\anaconda3\\lib\\site-packages (from docx2csv) (8.0.3)\n",
      "Requirement already satisfied: python-docx in c:\\users\\nzaki\\anaconda3\\lib\\site-packages (from docx2csv) (0.8.11)\n",
      "Requirement already satisfied: openpyxl in c:\\users\\nzaki\\anaconda3\\lib\\site-packages (from docx2csv) (3.0.9)\n",
      "Requirement already satisfied: xlwt in c:\\users\\nzaki\\anaconda3\\lib\\site-packages (from docx2csv) (1.3.0)\n",
      "Requirement already satisfied: colorama in c:\\users\\nzaki\\anaconda3\\lib\\site-packages (from click->docx2csv) (0.4.4)\n",
      "Requirement already satisfied: et-xmlfile in c:\\users\\nzaki\\anaconda3\\lib\\site-packages (from openpyxl->docx2csv) (1.1.0)\n",
      "Requirement already satisfied: lxml>=2.3.2 in c:\\users\\nzaki\\anaconda3\\lib\\site-packages (from python-docx->docx2csv) (4.6.3)\n"
     ]
    }
   ],
   "source": [
    "!pip install docx2csv"
   ]
  },
  {
   "cell_type": "code",
   "execution_count": 4,
   "metadata": {
    "id": "A_eRLnUVbzGk"
   },
   "outputs": [],
   "source": [
    "# extract tables from word document\n",
    "from docx2csv import extract_tables, extract\n",
    "tables = extract_tables('lists-sec.docx')"
   ]
  },
  {
   "cell_type": "code",
   "execution_count": 5,
   "metadata": {
    "id": "3ypxqU-pbzC7"
   },
   "outputs": [],
   "source": [
    "from docx import Document\n",
    "document = Document(\"lists-sec.docx\")"
   ]
  },
  {
   "cell_type": "code",
   "execution_count": 6,
   "metadata": {
    "id": "C3UwEI5hby9k"
   },
   "outputs": [],
   "source": [
    "def read_docx_table(document,table_num):\n",
    "  table = document.tables[table_num-1]\n",
    "  data = [[cell.text for cell in row.cells] for row in table.rows]\n",
    "  df = pd.DataFrame(data)\n",
    "  return df"
   ]
  },
  {
   "cell_type": "code",
   "execution_count": 7,
   "metadata": {
    "id": "bpNT07kAXk01"
   },
   "outputs": [],
   "source": [
    "# importing necessary libraries\n",
    "import pandas as pd\n",
    "from sklearn.feature_extraction.text import TfidfVectorizer\n",
    "from sklearn.feature_extraction.text import CountVectorizer\n",
    "from sklearn.metrics.pairwise import cosine_similarity\n",
    "import numpy as np"
   ]
  },
  {
   "cell_type": "markdown",
   "metadata": {
    "id": "VugavvsYYLPG"
   },
   "source": [
    "## PLO TABLE"
   ]
  },
  {
   "cell_type": "code",
   "execution_count": 8,
   "metadata": {
    "colab": {
     "base_uri": "https://localhost:8080/",
     "height": 206
    },
    "id": "7ZpBU1LeXqiG",
    "outputId": "f021d7e4-aebe-430c-9b07-ad265896aff9"
   },
   "outputs": [
    {
     "data": {
      "text/html": [
       "<div><div id=1c108c0a-2811-4d96-9d50-c47c465f16c4 style=\"display:none; background-color:#9D6CFF; color:white; width:200px; height:30px; padding-left:5px; border-radius:4px; flex-direction:row; justify-content:space-around; align-items:center;\" onmouseover=\"this.style.backgroundColor='#BA9BF8'\" onmouseout=\"this.style.backgroundColor='#9D6CFF'\" onclick=\"window.commands?.execute('create-mitosheet-from-dataframe-output');\">See Full Dataframe in Mito</div> <script> if (window.commands.hasCommand('create-mitosheet-from-dataframe-output')) document.getElementById('1c108c0a-2811-4d96-9d50-c47c465f16c4').style.display = 'flex' </script> <table border=\"1\" class=\"dataframe\">\n",
       "  <thead>\n",
       "    <tr style=\"text-align: right;\">\n",
       "      <th></th>\n",
       "      <th>0</th>\n",
       "      <th>1</th>\n",
       "    </tr>\n",
       "  </thead>\n",
       "  <tbody>\n",
       "    <tr>\n",
       "      <th>0</th>\n",
       "      <td>P1</td>\n",
       "      <td>Analyze a complex computing problem and to apply principles of computing and other relevant disciplines to identify solutions.</td>\n",
       "    </tr>\n",
       "    <tr>\n",
       "      <th>1</th>\n",
       "      <td>P2</td>\n",
       "      <td>Design, implement, and evaluate a computing-based solution to meet a given set of computing requirements in the context of the program’s discipline.</td>\n",
       "    </tr>\n",
       "    <tr>\n",
       "      <th>2</th>\n",
       "      <td>P3</td>\n",
       "      <td>Communicate effectively in a variety of professional contexts.</td>\n",
       "    </tr>\n",
       "    <tr>\n",
       "      <th>3</th>\n",
       "      <td>P4</td>\n",
       "      <td>Recognize professional responsibilities and make informed judgments in computing practice based on legal and ethical principles.</td>\n",
       "    </tr>\n",
       "    <tr>\n",
       "      <th>4</th>\n",
       "      <td>P5</td>\n",
       "      <td>Function effectively as a member or leader of a team engaged in activities appropriate to the program’s discipline.</td>\n",
       "    </tr>\n",
       "  </tbody>\n",
       "</table></div>"
      ],
      "text/plain": [
       "    0                                                  1\n",
       "0  P1  Analyze a complex computing problem and to app...\n",
       "1  P2  Design, implement, and evaluate a computing-ba...\n",
       "2  P3  Communicate effectively in a variety of profes...\n",
       "3  P4  Recognize professional responsibilities and ma...\n",
       "4  P5  Function effectively as a member or leader of ..."
      ]
     },
     "execution_count": 8,
     "metadata": {},
     "output_type": "execute_result"
    }
   ],
   "source": [
    "# Creating a dataframe for PLOs and it will accept 'n' number of PLOs\n",
    "table_num=1\n",
    "df = read_docx_table(document,table_num)\n",
    "df.head()"
   ]
  },
  {
   "cell_type": "code",
   "execution_count": 9,
   "metadata": {
    "id": "U28-N6sjbQkc"
   },
   "outputs": [],
   "source": [
    "q1 = df.copy()"
   ]
  },
  {
   "cell_type": "code",
   "execution_count": 10,
   "metadata": {
    "id": "BzoHBy9RXqlF"
   },
   "outputs": [],
   "source": [
    "# assigning count vectorizer\n",
    "count_vectorizer = CountVectorizer(stop_words='english', min_df=0.005)"
   ]
  },
  {
   "cell_type": "code",
   "execution_count": 11,
   "metadata": {
    "id": "xUftpLLZXqoV"
   },
   "outputs": [],
   "source": [
    "# Data preprocessing for PLO dataframe\n",
    "q1[1] = q1[1].str.lower()\n",
    "corpus = q1[1].tolist()\n",
    "corpii = count_vectorizer.fit_transform(corpus)"
   ]
  },
  {
   "cell_type": "code",
   "execution_count": 12,
   "metadata": {
    "colab": {
     "base_uri": "https://localhost:8080/"
    },
    "id": "n20hDeKkQX9t",
    "outputId": "eac9548d-3148-4260-8b80-17f19079e3bd"
   },
   "outputs": [
    {
     "data": {
      "text/plain": [
       "<6x49 sparse matrix of type '<class 'numpy.int64'>'\n",
       "\twith 61 stored elements in Compressed Sparse Row format>"
      ]
     },
     "execution_count": 12,
     "metadata": {},
     "output_type": "execute_result"
    }
   ],
   "source": [
    "corpii"
   ]
  },
  {
   "cell_type": "code",
   "execution_count": 13,
   "metadata": {
    "colab": {
     "base_uri": "https://localhost:8080/"
    },
    "id": "mySN4lHeXqrV",
    "outputId": "7eb5f419-6cd3-467b-d40c-f7930edd9b61"
   },
   "outputs": [
    {
     "name": "stderr",
     "output_type": "stream",
     "text": [
      "C:\\Users\\nzaki\\anaconda3\\lib\\site-packages\\sklearn\\utils\\deprecation.py:87: FutureWarning: Function get_feature_names is deprecated; get_feature_names is deprecated in 1.0 and will be removed in 1.2. Please use get_feature_names_out instead.\n",
      "  warnings.warn(msg, category=FutureWarning)\n"
     ]
    },
    {
     "data": {
      "text/plain": [
       "['activities',\n",
       " 'analyze',\n",
       " 'apply',\n",
       " 'appropriate',\n",
       " 'based',\n",
       " 'communicate',\n",
       " 'complex',\n",
       " 'computer',\n",
       " 'computing',\n",
       " 'context',\n",
       " 'contexts',\n",
       " 'design',\n",
       " 'development',\n",
       " 'discipline',\n",
       " 'disciplines',\n",
       " 'effectively',\n",
       " 'engaged',\n",
       " 'ethical',\n",
       " 'evaluate',\n",
       " 'function',\n",
       " 'fundamentals',\n",
       " 'given',\n",
       " 'identify',\n",
       " 'implement',\n",
       " 'informed',\n",
       " 'judgments',\n",
       " 'leader',\n",
       " 'legal',\n",
       " 'make',\n",
       " 'meet',\n",
       " 'member',\n",
       " 'practice',\n",
       " 'principles',\n",
       " 'problem',\n",
       " 'produce',\n",
       " 'professional',\n",
       " 'program',\n",
       " 'recognize',\n",
       " 'relevant',\n",
       " 'requirements',\n",
       " 'responsibilities',\n",
       " 'science',\n",
       " 'set',\n",
       " 'software',\n",
       " 'solution',\n",
       " 'solutions',\n",
       " 'team',\n",
       " 'theory',\n",
       " 'variety']"
      ]
     },
     "execution_count": 13,
     "metadata": {},
     "output_type": "execute_result"
    }
   ],
   "source": [
    "# extracting features names from PLO table\n",
    "feature_names = count_vectorizer.get_feature_names()\n",
    "feature_names"
   ]
  },
  {
   "cell_type": "code",
   "execution_count": 14,
   "metadata": {
    "colab": {
     "base_uri": "https://localhost:8080/"
    },
    "id": "oRxKuvJkQ0Mk",
    "outputId": "80f0fee1-eebe-4487-dfd9-946ea7c8b797"
   },
   "outputs": [
    {
     "data": {
      "text/plain": [
       "49"
      ]
     },
     "execution_count": 14,
     "metadata": {},
     "output_type": "execute_result"
    }
   ],
   "source": [
    "len(feature_names)"
   ]
  },
  {
   "cell_type": "code",
   "execution_count": 15,
   "metadata": {
    "id": "0K-RSe6xXqul"
   },
   "outputs": [],
   "source": [
    "# Converting features to vector form and create a dataframe\n",
    "X1 = pd.DataFrame(corpii.toarray(), columns=feature_names)"
   ]
  },
  {
   "cell_type": "markdown",
   "metadata": {
    "id": "i8mtCAEZYPIe"
   },
   "source": [
    "## CLO TABLE"
   ]
  },
  {
   "cell_type": "code",
   "execution_count": 16,
   "metadata": {
    "id": "clX4_RyxXqxF"
   },
   "outputs": [],
   "source": [
    "# Creating a dataframe for CLOs and it will accept 'n' number of CLOs\n",
    "table_num=2\n",
    "df1 = read_docx_table(document,table_num)\n",
    "p1 = df1.copy()"
   ]
  },
  {
   "cell_type": "code",
   "execution_count": 17,
   "metadata": {
    "id": "gWp0jpPVXq0F"
   },
   "outputs": [],
   "source": [
    "# Data preprocessing for CLO dataframe\n",
    "p1[1] = p1[1].str.lower()\n",
    "corpus11 = p1[1].tolist()\n",
    "corpii11 = count_vectorizer.fit_transform(corpus11)"
   ]
  },
  {
   "cell_type": "code",
   "execution_count": 18,
   "metadata": {
    "colab": {
     "base_uri": "https://localhost:8080/"
    },
    "id": "1Zg_ZIN7Xq3e",
    "outputId": "6e4c8724-732a-4399-c269-259f23c56e15"
   },
   "outputs": [],
   "source": [
    "# extracting features names from CLO table\n",
    "feature_names1 = count_vectorizer.get_feature_names()"
   ]
  },
  {
   "cell_type": "code",
   "execution_count": 19,
   "metadata": {
    "colab": {
     "base_uri": "https://localhost:8080/"
    },
    "id": "tCXVAkg3mSgL",
    "outputId": "ad41e6d3-8677-4673-9531-71f6d9e78ee0"
   },
   "outputs": [
    {
     "data": {
      "text/plain": [
       "328"
      ]
     },
     "execution_count": 19,
     "metadata": {},
     "output_type": "execute_result"
    }
   ],
   "source": [
    "len(feature_names1)"
   ]
  },
  {
   "cell_type": "code",
   "execution_count": 20,
   "metadata": {
    "id": "PPI9g37tXq6l"
   },
   "outputs": [],
   "source": [
    "# Converting features to vector form and create a dataframe\n",
    "X2 = pd.DataFrame(corpii11.toarray(), columns=feature_names1)"
   ]
  },
  {
   "cell_type": "code",
   "execution_count": 21,
   "metadata": {
    "colab": {
     "base_uri": "https://localhost:8080/",
     "height": 299
    },
    "id": "U5C18Iysmlbb",
    "outputId": "f18da737-d812-4a7d-8763-fe816dec3e3c"
   },
   "outputs": [
    {
     "data": {
      "text/html": [
       "<div><div id=4887e6fc-1b4d-446f-8bdf-c732895c956e style=\"display:none; background-color:#9D6CFF; color:white; width:200px; height:30px; padding-left:5px; border-radius:4px; flex-direction:row; justify-content:space-around; align-items:center;\" onmouseover=\"this.style.backgroundColor='#BA9BF8'\" onmouseout=\"this.style.backgroundColor='#9D6CFF'\" onclick=\"window.commands?.execute('create-mitosheet-from-dataframe-output');\">See Full Dataframe in Mito</div> <script> if (window.commands.hasCommand('create-mitosheet-from-dataframe-output')) document.getElementById('4887e6fc-1b4d-446f-8bdf-c732895c956e').style.display = 'flex' </script> <table border=\"1\" class=\"dataframe\">\n",
       "  <thead>\n",
       "    <tr style=\"text-align: right;\">\n",
       "      <th></th>\n",
       "      <th>accuracy</th>\n",
       "      <th>ai</th>\n",
       "      <th>algebra</th>\n",
       "      <th>algorithm</th>\n",
       "      <th>algorithmic</th>\n",
       "      <th>algorithms</th>\n",
       "      <th>analysis</th>\n",
       "      <th>analyze</th>\n",
       "      <th>analyzing</th>\n",
       "      <th>animation</th>\n",
       "      <th>...</th>\n",
       "      <th>visualize</th>\n",
       "      <th>web</th>\n",
       "      <th>work</th>\n",
       "      <th>workers</th>\n",
       "      <th>working</th>\n",
       "      <th>workplace</th>\n",
       "      <th>write</th>\n",
       "      <th>writing</th>\n",
       "      <th>written</th>\n",
       "      <th>xml</th>\n",
       "    </tr>\n",
       "  </thead>\n",
       "  <tbody>\n",
       "    <tr>\n",
       "      <th>0</th>\n",
       "      <td>0</td>\n",
       "      <td>1</td>\n",
       "      <td>0</td>\n",
       "      <td>0</td>\n",
       "      <td>0</td>\n",
       "      <td>0</td>\n",
       "      <td>0</td>\n",
       "      <td>0</td>\n",
       "      <td>0</td>\n",
       "      <td>0</td>\n",
       "      <td>...</td>\n",
       "      <td>0</td>\n",
       "      <td>0</td>\n",
       "      <td>0</td>\n",
       "      <td>0</td>\n",
       "      <td>0</td>\n",
       "      <td>0</td>\n",
       "      <td>0</td>\n",
       "      <td>0</td>\n",
       "      <td>0</td>\n",
       "      <td>0</td>\n",
       "    </tr>\n",
       "    <tr>\n",
       "      <th>1</th>\n",
       "      <td>0</td>\n",
       "      <td>1</td>\n",
       "      <td>0</td>\n",
       "      <td>0</td>\n",
       "      <td>0</td>\n",
       "      <td>0</td>\n",
       "      <td>0</td>\n",
       "      <td>0</td>\n",
       "      <td>0</td>\n",
       "      <td>0</td>\n",
       "      <td>...</td>\n",
       "      <td>0</td>\n",
       "      <td>0</td>\n",
       "      <td>0</td>\n",
       "      <td>0</td>\n",
       "      <td>0</td>\n",
       "      <td>0</td>\n",
       "      <td>0</td>\n",
       "      <td>0</td>\n",
       "      <td>0</td>\n",
       "      <td>0</td>\n",
       "    </tr>\n",
       "    <tr>\n",
       "      <th>2</th>\n",
       "      <td>0</td>\n",
       "      <td>1</td>\n",
       "      <td>0</td>\n",
       "      <td>0</td>\n",
       "      <td>0</td>\n",
       "      <td>0</td>\n",
       "      <td>0</td>\n",
       "      <td>0</td>\n",
       "      <td>0</td>\n",
       "      <td>0</td>\n",
       "      <td>...</td>\n",
       "      <td>0</td>\n",
       "      <td>0</td>\n",
       "      <td>0</td>\n",
       "      <td>0</td>\n",
       "      <td>0</td>\n",
       "      <td>0</td>\n",
       "      <td>0</td>\n",
       "      <td>0</td>\n",
       "      <td>0</td>\n",
       "      <td>0</td>\n",
       "    </tr>\n",
       "    <tr>\n",
       "      <th>3</th>\n",
       "      <td>0</td>\n",
       "      <td>1</td>\n",
       "      <td>0</td>\n",
       "      <td>0</td>\n",
       "      <td>0</td>\n",
       "      <td>0</td>\n",
       "      <td>0</td>\n",
       "      <td>0</td>\n",
       "      <td>0</td>\n",
       "      <td>0</td>\n",
       "      <td>...</td>\n",
       "      <td>0</td>\n",
       "      <td>0</td>\n",
       "      <td>0</td>\n",
       "      <td>0</td>\n",
       "      <td>0</td>\n",
       "      <td>0</td>\n",
       "      <td>0</td>\n",
       "      <td>0</td>\n",
       "      <td>0</td>\n",
       "      <td>0</td>\n",
       "    </tr>\n",
       "    <tr>\n",
       "      <th>4</th>\n",
       "      <td>0</td>\n",
       "      <td>0</td>\n",
       "      <td>0</td>\n",
       "      <td>0</td>\n",
       "      <td>0</td>\n",
       "      <td>0</td>\n",
       "      <td>0</td>\n",
       "      <td>0</td>\n",
       "      <td>0</td>\n",
       "      <td>0</td>\n",
       "      <td>...</td>\n",
       "      <td>0</td>\n",
       "      <td>0</td>\n",
       "      <td>0</td>\n",
       "      <td>0</td>\n",
       "      <td>0</td>\n",
       "      <td>0</td>\n",
       "      <td>0</td>\n",
       "      <td>0</td>\n",
       "      <td>0</td>\n",
       "      <td>0</td>\n",
       "    </tr>\n",
       "  </tbody>\n",
       "</table></div>"
      ],
      "text/plain": [
       "   accuracy  ai  algebra  algorithm  algorithmic  algorithms  analysis  \\\n",
       "0         0   1        0          0            0           0         0   \n",
       "1         0   1        0          0            0           0         0   \n",
       "2         0   1        0          0            0           0         0   \n",
       "3         0   1        0          0            0           0         0   \n",
       "4         0   0        0          0            0           0         0   \n",
       "\n",
       "   analyze  analyzing  animation  ...  visualize  web  work  workers  working  \\\n",
       "0        0          0          0  ...          0    0     0        0        0   \n",
       "1        0          0          0  ...          0    0     0        0        0   \n",
       "2        0          0          0  ...          0    0     0        0        0   \n",
       "3        0          0          0  ...          0    0     0        0        0   \n",
       "4        0          0          0  ...          0    0     0        0        0   \n",
       "\n",
       "   workplace  write  writing  written  xml  \n",
       "0          0      0        0        0    0  \n",
       "1          0      0        0        0    0  \n",
       "2          0      0        0        0    0  \n",
       "3          0      0        0        0    0  \n",
       "4          0      0        0        0    0  \n",
       "\n",
       "[5 rows x 328 columns]"
      ]
     },
     "execution_count": 21,
     "metadata": {},
     "output_type": "execute_result"
    }
   ],
   "source": [
    "X2.head()"
   ]
  },
  {
   "cell_type": "code",
   "execution_count": 22,
   "metadata": {
    "id": "b6W1EAfRXq91"
   },
   "outputs": [],
   "source": [
    "# adding column index to the CLO table\n",
    "U2 = pd.concat([df1[0], X2], axis=1)\n",
    "U2.set_index(0, inplace=True)"
   ]
  },
  {
   "cell_type": "code",
   "execution_count": 23,
   "metadata": {
    "colab": {
     "base_uri": "https://localhost:8080/",
     "height": 331
    },
    "id": "1RAJJ1I_mxiL",
    "outputId": "bc32ea6a-e597-4362-d2fa-aff4d2bbb47d"
   },
   "outputs": [
    {
     "data": {
      "text/html": [
       "<div><div id=55e3fe3e-cb20-4c71-a95f-55484802f360 style=\"display:none; background-color:#9D6CFF; color:white; width:200px; height:30px; padding-left:5px; border-radius:4px; flex-direction:row; justify-content:space-around; align-items:center;\" onmouseover=\"this.style.backgroundColor='#BA9BF8'\" onmouseout=\"this.style.backgroundColor='#9D6CFF'\" onclick=\"window.commands?.execute('create-mitosheet-from-dataframe-output');\">See Full Dataframe in Mito</div> <script> if (window.commands.hasCommand('create-mitosheet-from-dataframe-output')) document.getElementById('55e3fe3e-cb20-4c71-a95f-55484802f360').style.display = 'flex' </script> <table border=\"1\" class=\"dataframe\">\n",
       "  <thead>\n",
       "    <tr style=\"text-align: right;\">\n",
       "      <th></th>\n",
       "      <th>accuracy</th>\n",
       "      <th>ai</th>\n",
       "      <th>algebra</th>\n",
       "      <th>algorithm</th>\n",
       "      <th>algorithmic</th>\n",
       "      <th>algorithms</th>\n",
       "      <th>analysis</th>\n",
       "      <th>analyze</th>\n",
       "      <th>analyzing</th>\n",
       "      <th>animation</th>\n",
       "      <th>...</th>\n",
       "      <th>visualize</th>\n",
       "      <th>web</th>\n",
       "      <th>work</th>\n",
       "      <th>workers</th>\n",
       "      <th>working</th>\n",
       "      <th>workplace</th>\n",
       "      <th>write</th>\n",
       "      <th>writing</th>\n",
       "      <th>written</th>\n",
       "      <th>xml</th>\n",
       "    </tr>\n",
       "    <tr>\n",
       "      <th>0</th>\n",
       "      <th></th>\n",
       "      <th></th>\n",
       "      <th></th>\n",
       "      <th></th>\n",
       "      <th></th>\n",
       "      <th></th>\n",
       "      <th></th>\n",
       "      <th></th>\n",
       "      <th></th>\n",
       "      <th></th>\n",
       "      <th></th>\n",
       "      <th></th>\n",
       "      <th></th>\n",
       "      <th></th>\n",
       "      <th></th>\n",
       "      <th></th>\n",
       "      <th></th>\n",
       "      <th></th>\n",
       "      <th></th>\n",
       "      <th></th>\n",
       "      <th></th>\n",
       "    </tr>\n",
       "  </thead>\n",
       "  <tbody>\n",
       "    <tr>\n",
       "      <th>C1</th>\n",
       "      <td>0</td>\n",
       "      <td>1</td>\n",
       "      <td>0</td>\n",
       "      <td>0</td>\n",
       "      <td>0</td>\n",
       "      <td>0</td>\n",
       "      <td>0</td>\n",
       "      <td>0</td>\n",
       "      <td>0</td>\n",
       "      <td>0</td>\n",
       "      <td>...</td>\n",
       "      <td>0</td>\n",
       "      <td>0</td>\n",
       "      <td>0</td>\n",
       "      <td>0</td>\n",
       "      <td>0</td>\n",
       "      <td>0</td>\n",
       "      <td>0</td>\n",
       "      <td>0</td>\n",
       "      <td>0</td>\n",
       "      <td>0</td>\n",
       "    </tr>\n",
       "    <tr>\n",
       "      <th>C2</th>\n",
       "      <td>0</td>\n",
       "      <td>1</td>\n",
       "      <td>0</td>\n",
       "      <td>0</td>\n",
       "      <td>0</td>\n",
       "      <td>0</td>\n",
       "      <td>0</td>\n",
       "      <td>0</td>\n",
       "      <td>0</td>\n",
       "      <td>0</td>\n",
       "      <td>...</td>\n",
       "      <td>0</td>\n",
       "      <td>0</td>\n",
       "      <td>0</td>\n",
       "      <td>0</td>\n",
       "      <td>0</td>\n",
       "      <td>0</td>\n",
       "      <td>0</td>\n",
       "      <td>0</td>\n",
       "      <td>0</td>\n",
       "      <td>0</td>\n",
       "    </tr>\n",
       "    <tr>\n",
       "      <th>C3</th>\n",
       "      <td>0</td>\n",
       "      <td>1</td>\n",
       "      <td>0</td>\n",
       "      <td>0</td>\n",
       "      <td>0</td>\n",
       "      <td>0</td>\n",
       "      <td>0</td>\n",
       "      <td>0</td>\n",
       "      <td>0</td>\n",
       "      <td>0</td>\n",
       "      <td>...</td>\n",
       "      <td>0</td>\n",
       "      <td>0</td>\n",
       "      <td>0</td>\n",
       "      <td>0</td>\n",
       "      <td>0</td>\n",
       "      <td>0</td>\n",
       "      <td>0</td>\n",
       "      <td>0</td>\n",
       "      <td>0</td>\n",
       "      <td>0</td>\n",
       "    </tr>\n",
       "    <tr>\n",
       "      <th>C4</th>\n",
       "      <td>0</td>\n",
       "      <td>1</td>\n",
       "      <td>0</td>\n",
       "      <td>0</td>\n",
       "      <td>0</td>\n",
       "      <td>0</td>\n",
       "      <td>0</td>\n",
       "      <td>0</td>\n",
       "      <td>0</td>\n",
       "      <td>0</td>\n",
       "      <td>...</td>\n",
       "      <td>0</td>\n",
       "      <td>0</td>\n",
       "      <td>0</td>\n",
       "      <td>0</td>\n",
       "      <td>0</td>\n",
       "      <td>0</td>\n",
       "      <td>0</td>\n",
       "      <td>0</td>\n",
       "      <td>0</td>\n",
       "      <td>0</td>\n",
       "    </tr>\n",
       "    <tr>\n",
       "      <th>C5</th>\n",
       "      <td>0</td>\n",
       "      <td>0</td>\n",
       "      <td>0</td>\n",
       "      <td>0</td>\n",
       "      <td>0</td>\n",
       "      <td>0</td>\n",
       "      <td>0</td>\n",
       "      <td>0</td>\n",
       "      <td>0</td>\n",
       "      <td>0</td>\n",
       "      <td>...</td>\n",
       "      <td>0</td>\n",
       "      <td>0</td>\n",
       "      <td>0</td>\n",
       "      <td>0</td>\n",
       "      <td>0</td>\n",
       "      <td>0</td>\n",
       "      <td>0</td>\n",
       "      <td>0</td>\n",
       "      <td>0</td>\n",
       "      <td>0</td>\n",
       "    </tr>\n",
       "  </tbody>\n",
       "</table></div>"
      ],
      "text/plain": [
       "    accuracy  ai  algebra  algorithm  algorithmic  algorithms  analysis  \\\n",
       "0                                                                         \n",
       "C1         0   1        0          0            0           0         0   \n",
       "C2         0   1        0          0            0           0         0   \n",
       "C3         0   1        0          0            0           0         0   \n",
       "C4         0   1        0          0            0           0         0   \n",
       "C5         0   0        0          0            0           0         0   \n",
       "\n",
       "    analyze  analyzing  animation  ...  visualize  web  work  workers  \\\n",
       "0                                  ...                                  \n",
       "C1        0          0          0  ...          0    0     0        0   \n",
       "C2        0          0          0  ...          0    0     0        0   \n",
       "C3        0          0          0  ...          0    0     0        0   \n",
       "C4        0          0          0  ...          0    0     0        0   \n",
       "C5        0          0          0  ...          0    0     0        0   \n",
       "\n",
       "    working  workplace  write  writing  written  xml  \n",
       "0                                                     \n",
       "C1        0          0      0        0        0    0  \n",
       "C2        0          0      0        0        0    0  \n",
       "C3        0          0      0        0        0    0  \n",
       "C4        0          0      0        0        0    0  \n",
       "C5        0          0      0        0        0    0  \n",
       "\n",
       "[5 rows x 328 columns]"
      ]
     },
     "execution_count": 23,
     "metadata": {},
     "output_type": "execute_result"
    }
   ],
   "source": [
    "U2.head()"
   ]
  },
  {
   "cell_type": "code",
   "execution_count": 24,
   "metadata": {
    "id": "PwmpreCjXrBN"
   },
   "outputs": [],
   "source": [
    "# adding column index to the PLO table\n",
    "U1 = pd.concat([df[0], X1], axis=1)\n",
    "U1.set_index(0, inplace=True)"
   ]
  },
  {
   "cell_type": "code",
   "execution_count": 25,
   "metadata": {
    "colab": {
     "base_uri": "https://localhost:8080/",
     "height": 362
    },
    "id": "rrmS-OWgm1BK",
    "outputId": "6390c385-b086-4fd4-cad1-59b1da009925"
   },
   "outputs": [
    {
     "data": {
      "text/html": [
       "<div><div id=dfdb5335-bf5f-4c3a-8914-cecb2bafd7fd style=\"display:none; background-color:#9D6CFF; color:white; width:200px; height:30px; padding-left:5px; border-radius:4px; flex-direction:row; justify-content:space-around; align-items:center;\" onmouseover=\"this.style.backgroundColor='#BA9BF8'\" onmouseout=\"this.style.backgroundColor='#9D6CFF'\" onclick=\"window.commands?.execute('create-mitosheet-from-dataframe-output');\">See Full Dataframe in Mito</div> <script> if (window.commands.hasCommand('create-mitosheet-from-dataframe-output')) document.getElementById('dfdb5335-bf5f-4c3a-8914-cecb2bafd7fd').style.display = 'flex' </script> <table border=\"1\" class=\"dataframe\">\n",
       "  <thead>\n",
       "    <tr style=\"text-align: right;\">\n",
       "      <th></th>\n",
       "      <th>activities</th>\n",
       "      <th>analyze</th>\n",
       "      <th>apply</th>\n",
       "      <th>appropriate</th>\n",
       "      <th>based</th>\n",
       "      <th>communicate</th>\n",
       "      <th>complex</th>\n",
       "      <th>computer</th>\n",
       "      <th>computing</th>\n",
       "      <th>context</th>\n",
       "      <th>...</th>\n",
       "      <th>requirements</th>\n",
       "      <th>responsibilities</th>\n",
       "      <th>science</th>\n",
       "      <th>set</th>\n",
       "      <th>software</th>\n",
       "      <th>solution</th>\n",
       "      <th>solutions</th>\n",
       "      <th>team</th>\n",
       "      <th>theory</th>\n",
       "      <th>variety</th>\n",
       "    </tr>\n",
       "    <tr>\n",
       "      <th>0</th>\n",
       "      <th></th>\n",
       "      <th></th>\n",
       "      <th></th>\n",
       "      <th></th>\n",
       "      <th></th>\n",
       "      <th></th>\n",
       "      <th></th>\n",
       "      <th></th>\n",
       "      <th></th>\n",
       "      <th></th>\n",
       "      <th></th>\n",
       "      <th></th>\n",
       "      <th></th>\n",
       "      <th></th>\n",
       "      <th></th>\n",
       "      <th></th>\n",
       "      <th></th>\n",
       "      <th></th>\n",
       "      <th></th>\n",
       "      <th></th>\n",
       "      <th></th>\n",
       "    </tr>\n",
       "  </thead>\n",
       "  <tbody>\n",
       "    <tr>\n",
       "      <th>P1</th>\n",
       "      <td>0</td>\n",
       "      <td>1</td>\n",
       "      <td>1</td>\n",
       "      <td>0</td>\n",
       "      <td>0</td>\n",
       "      <td>0</td>\n",
       "      <td>1</td>\n",
       "      <td>0</td>\n",
       "      <td>2</td>\n",
       "      <td>0</td>\n",
       "      <td>...</td>\n",
       "      <td>0</td>\n",
       "      <td>0</td>\n",
       "      <td>0</td>\n",
       "      <td>0</td>\n",
       "      <td>0</td>\n",
       "      <td>0</td>\n",
       "      <td>1</td>\n",
       "      <td>0</td>\n",
       "      <td>0</td>\n",
       "      <td>0</td>\n",
       "    </tr>\n",
       "    <tr>\n",
       "      <th>P2</th>\n",
       "      <td>0</td>\n",
       "      <td>0</td>\n",
       "      <td>0</td>\n",
       "      <td>0</td>\n",
       "      <td>1</td>\n",
       "      <td>0</td>\n",
       "      <td>0</td>\n",
       "      <td>0</td>\n",
       "      <td>2</td>\n",
       "      <td>1</td>\n",
       "      <td>...</td>\n",
       "      <td>1</td>\n",
       "      <td>0</td>\n",
       "      <td>0</td>\n",
       "      <td>1</td>\n",
       "      <td>0</td>\n",
       "      <td>1</td>\n",
       "      <td>0</td>\n",
       "      <td>0</td>\n",
       "      <td>0</td>\n",
       "      <td>0</td>\n",
       "    </tr>\n",
       "    <tr>\n",
       "      <th>P3</th>\n",
       "      <td>0</td>\n",
       "      <td>0</td>\n",
       "      <td>0</td>\n",
       "      <td>0</td>\n",
       "      <td>0</td>\n",
       "      <td>1</td>\n",
       "      <td>0</td>\n",
       "      <td>0</td>\n",
       "      <td>0</td>\n",
       "      <td>0</td>\n",
       "      <td>...</td>\n",
       "      <td>0</td>\n",
       "      <td>0</td>\n",
       "      <td>0</td>\n",
       "      <td>0</td>\n",
       "      <td>0</td>\n",
       "      <td>0</td>\n",
       "      <td>0</td>\n",
       "      <td>0</td>\n",
       "      <td>0</td>\n",
       "      <td>1</td>\n",
       "    </tr>\n",
       "    <tr>\n",
       "      <th>P4</th>\n",
       "      <td>0</td>\n",
       "      <td>0</td>\n",
       "      <td>0</td>\n",
       "      <td>0</td>\n",
       "      <td>1</td>\n",
       "      <td>0</td>\n",
       "      <td>0</td>\n",
       "      <td>0</td>\n",
       "      <td>1</td>\n",
       "      <td>0</td>\n",
       "      <td>...</td>\n",
       "      <td>0</td>\n",
       "      <td>1</td>\n",
       "      <td>0</td>\n",
       "      <td>0</td>\n",
       "      <td>0</td>\n",
       "      <td>0</td>\n",
       "      <td>0</td>\n",
       "      <td>0</td>\n",
       "      <td>0</td>\n",
       "      <td>0</td>\n",
       "    </tr>\n",
       "    <tr>\n",
       "      <th>P5</th>\n",
       "      <td>1</td>\n",
       "      <td>0</td>\n",
       "      <td>0</td>\n",
       "      <td>1</td>\n",
       "      <td>0</td>\n",
       "      <td>0</td>\n",
       "      <td>0</td>\n",
       "      <td>0</td>\n",
       "      <td>0</td>\n",
       "      <td>0</td>\n",
       "      <td>...</td>\n",
       "      <td>0</td>\n",
       "      <td>0</td>\n",
       "      <td>0</td>\n",
       "      <td>0</td>\n",
       "      <td>0</td>\n",
       "      <td>0</td>\n",
       "      <td>0</td>\n",
       "      <td>1</td>\n",
       "      <td>0</td>\n",
       "      <td>0</td>\n",
       "    </tr>\n",
       "    <tr>\n",
       "      <th>P6</th>\n",
       "      <td>0</td>\n",
       "      <td>0</td>\n",
       "      <td>1</td>\n",
       "      <td>0</td>\n",
       "      <td>1</td>\n",
       "      <td>0</td>\n",
       "      <td>0</td>\n",
       "      <td>1</td>\n",
       "      <td>1</td>\n",
       "      <td>0</td>\n",
       "      <td>...</td>\n",
       "      <td>0</td>\n",
       "      <td>0</td>\n",
       "      <td>1</td>\n",
       "      <td>0</td>\n",
       "      <td>1</td>\n",
       "      <td>0</td>\n",
       "      <td>1</td>\n",
       "      <td>0</td>\n",
       "      <td>1</td>\n",
       "      <td>0</td>\n",
       "    </tr>\n",
       "  </tbody>\n",
       "</table></div>"
      ],
      "text/plain": [
       "    activities  analyze  apply  appropriate  based  communicate  complex  \\\n",
       "0                                                                          \n",
       "P1           0        1      1            0      0            0        1   \n",
       "P2           0        0      0            0      1            0        0   \n",
       "P3           0        0      0            0      0            1        0   \n",
       "P4           0        0      0            0      1            0        0   \n",
       "P5           1        0      0            1      0            0        0   \n",
       "P6           0        0      1            0      1            0        0   \n",
       "\n",
       "    computer  computing  context  ...  requirements  responsibilities  \\\n",
       "0                                 ...                                   \n",
       "P1         0          2        0  ...             0                 0   \n",
       "P2         0          2        1  ...             1                 0   \n",
       "P3         0          0        0  ...             0                 0   \n",
       "P4         0          1        0  ...             0                 1   \n",
       "P5         0          0        0  ...             0                 0   \n",
       "P6         1          1        0  ...             0                 0   \n",
       "\n",
       "    science  set  software  solution  solutions  team  theory  variety  \n",
       "0                                                                       \n",
       "P1        0    0         0         0          1     0       0        0  \n",
       "P2        0    1         0         1          0     0       0        0  \n",
       "P3        0    0         0         0          0     0       0        1  \n",
       "P4        0    0         0         0          0     0       0        0  \n",
       "P5        0    0         0         0          0     1       0        0  \n",
       "P6        1    0         1         0          1     0       1        0  \n",
       "\n",
       "[6 rows x 49 columns]"
      ]
     },
     "execution_count": 25,
     "metadata": {},
     "output_type": "execute_result"
    }
   ],
   "source": [
    "U1"
   ]
  },
  {
   "cell_type": "markdown",
   "metadata": {
    "id": "KITnhyrLYo13"
   },
   "source": [
    "## Intersection method for both CLOs and PLOs"
   ]
  },
  {
   "cell_type": "markdown",
   "metadata": {
    "id": "aS2D2OmEpueu"
   },
   "source": [
    "### Generalised list of words"
   ]
  },
  {
   "cell_type": "code",
   "execution_count": 26,
   "metadata": {
    "id": "Wu1iwUnkn0cP"
   },
   "outputs": [],
   "source": [
    "append_words = list(map(str.lower,['Cite', 'Define', 'Describe', 'Draw', 'Enumerate', 'Identify' 'Index', 'Indicate', 'Label', 'List', 'Match', 'Meet', 'Name', 'Outline', 'Point', 'Quote', 'Read', 'Recall', 'Recite', 'Recognize', 'Record', 'Repeat', 'Reproduce','Review',\n",
    "'Select', 'State', 'Study', 'Tabulate', 'Trace', 'Write', 'Add', 'Approximate', 'Articulate', 'Associate', 'Characterize', 'Clarify', 'Classify', 'Compare', 'Compute', 'Contrast', 'Convert', 'Defend', 'Detail', 'Differentiate',\n",
    "'Discuss', 'Distinguish', 'Elaborate', 'Estimate', 'Example', 'Explain', 'Express', 'Extend', 'Extrapolate', 'Factor', 'Generalize', 'Give', 'Infer', 'Interact', 'Interpolate', 'Interpret', 'Observe', 'Paraphrase', 'Picture graphically',\n",
    "'Predict', 'Rewrite', 'Subtract', 'Summarize', 'Translate', 'Visualize', 'Acquire', 'Adapt', 'Allocate', 'Alphabetize', 'Apply', 'Ascertain', 'Assign', 'Attain', 'Avoid', 'Back up', 'Calculate', 'Capture', 'Change', 'Complete', 'Construct', \n",
    "'Customize', 'Demonstrate', 'Depreciate', 'Derive', 'Determine', 'Diminish', 'Discover', 'Employ', 'Examine', 'Exercise', 'Explore', 'Expose', 'Figure', 'Graph', 'Handle', 'Illustrate', 'Interconvert', 'Investigate', 'Manipulate', 'Modify', \n",
    "'Operate', 'Personalize', 'Plot','Practice', 'Prepare', 'Price', 'Process', 'Produce', 'Project', 'Provide', 'Relate', 'Round off', 'Sequence', 'Show', 'Simulate', 'Sketch', 'Solve', 'Subscribe', 'Transcribe', 'Use', 'Analyze', 'Audit', \n",
    "'Blueprint', 'Breadboard', 'Break down', 'Confirm', 'Correlate', 'Detect', 'Diagnose', 'Diagram', 'Discriminate', 'Dissect', 'Document', 'Ensure', 'Figure out', 'File', 'Group', 'Interrupt', 'Inventory', 'Layout', 'Manage', 'Maximize', \n",
    "'Minimize', 'Optimize', 'Order', 'Point out', 'Prioritize', 'Proofread', 'Query', 'Separate', 'Subdivide', 'Train', 'Transform', 'Appraise', 'Assess', 'Conclude', 'Counsel', 'Criticize', 'Critique', 'Evaluate', 'Grade', 'Hire', 'Judge', \n",
    "'Justify', 'Measure', 'Prescribe', 'Rank', 'Rate', 'Recommend', 'Release', 'Support', 'Test', 'Validate', 'Verify', 'Abstract', 'Animate', 'Arrange', 'Assemble', 'Budget', 'Categorize', 'Code', 'Combine', 'Compile', 'Compose', 'Cope', \n",
    "'Correspond', 'Create', 'Cultivate', 'Debug', 'Depict', 'Design', 'Develop', 'Devise', 'Dictate', 'Enhance', 'Facilitate', 'Format', 'Formulate', 'Generate', 'Import', 'Improve', 'Incorporate', 'Integrate', 'Interface', 'Join', 'Lecture', \n",
    "'Model', 'Network', 'Organize', 'Overhaul', 'Plan', 'Portray', 'Program', 'Rearrange', 'Reconstruct', 'Reorganize', 'Revise', 'Specify']))"
   ]
  },
  {
   "cell_type": "code",
   "execution_count": 27,
   "metadata": {
    "id": "v1Oy5S1Gn7G-"
   },
   "outputs": [],
   "source": [
    "# using + operator to concat the generalised list of words to the PLO list\n",
    "train_column = feature_names + append_words"
   ]
  },
  {
   "cell_type": "code",
   "execution_count": 28,
   "metadata": {
    "id": "xFcACqqen7OO"
   },
   "outputs": [],
   "source": [
    "# CLO list of words\n",
    "test_column = feature_names1"
   ]
  },
  {
   "cell_type": "code",
   "execution_count": 29,
   "metadata": {
    "id": "f4mKQFEyXrEe"
   },
   "outputs": [],
   "source": [
    "# Intersection method for extracting common column names from the tables (both CLO AND PLO)\n",
    "# comparing whether the CLO column name is present in the PLO column names or not\n",
    "train_column = feature_names + append_words # (PLO table ) (# using + operator to concat PLO words and list of generalized words)\n",
    "test_column = feature_names1   # (CLO table)"
   ]
  },
  {
   "cell_type": "code",
   "execution_count": 30,
   "metadata": {
    "colab": {
     "base_uri": "https://localhost:8080/"
    },
    "id": "GXFTvsnDXrHV",
    "outputId": "5df371f0-585d-4945-9342-c21959bf533b"
   },
   "outputs": [
    {
     "data": {
      "text/plain": [
       "['make',\n",
       " 'use',\n",
       " 'discover',\n",
       " 'manipulate',\n",
       " 'complete',\n",
       " 'customize',\n",
       " 'design',\n",
       " 'process',\n",
       " 'compare',\n",
       " 'diagram',\n",
       " 'science',\n",
       " 'visualize',\n",
       " 'estimate',\n",
       " 'test',\n",
       " 'translate',\n",
       " 'outline',\n",
       " 'layout',\n",
       " 'appropriate',\n",
       " 'interface',\n",
       " 'plan',\n",
       " 'complex',\n",
       " 'professional',\n",
       " 'apply',\n",
       " 'team',\n",
       " 'produce',\n",
       " 'communicate',\n",
       " 'given',\n",
       " 'define',\n",
       " 'select',\n",
       " 'code',\n",
       " 'principles',\n",
       " 'integrate',\n",
       " 'assess',\n",
       " 'solve',\n",
       " 'recognize',\n",
       " 'fundamentals',\n",
       " 'problem',\n",
       " 'evaluate',\n",
       " 'demonstrate',\n",
       " 'model',\n",
       " 'analyze',\n",
       " 'sequence',\n",
       " 'solution',\n",
       " 'program',\n",
       " 'requirements',\n",
       " 'prepare',\n",
       " 'determine',\n",
       " 'implement',\n",
       " 'software',\n",
       " 'effectively',\n",
       " 'explain',\n",
       " 'computer',\n",
       " 'ethical',\n",
       " 'project',\n",
       " 'based',\n",
       " 'query',\n",
       " 'theory',\n",
       " 'create',\n",
       " 'function',\n",
       " 'identify',\n",
       " 'development',\n",
       " 'develop',\n",
       " 'file',\n",
       " 'computing',\n",
       " 'discuss',\n",
       " 'write']"
      ]
     },
     "execution_count": 30,
     "metadata": {},
     "output_type": "execute_result"
    }
   ],
   "source": [
    "# This is the column names from both the tables (using intersection)\n",
    "common_column = list(set(train_column).intersection(set(test_column)))\n",
    "common_column"
   ]
  },
  {
   "cell_type": "code",
   "execution_count": 31,
   "metadata": {
    "colab": {
     "base_uri": "https://localhost:8080/"
    },
    "id": "dxFuq2Glm4lK",
    "outputId": "ab3f8b6d-b942-4957-c206-0669f5d79e35"
   },
   "outputs": [
    {
     "name": "stdout",
     "output_type": "stream",
     "text": [
      "['make', 'use', 'discover', 'manipulate', 'complete', 'customize', 'design', 'process', 'compare', 'diagram', 'science', 'visualize', 'estimate', 'test', 'translate', 'outline', 'layout', 'appropriate', 'interface', 'plan', 'complex', 'professional', 'apply', 'team', 'produce', 'communicate', 'given', 'define', 'select', 'code', 'principles', 'integrate', 'assess', 'solve', 'recognize', 'fundamentals', 'problem', 'evaluate', 'demonstrate', 'model', 'analyze', 'sequence', 'solution', 'program', 'requirements', 'prepare', 'determine', 'implement', 'software', 'effectively', 'explain', 'computer', 'ethical', 'project', 'based', 'query', 'theory', 'create', 'function', 'identify', 'development', 'develop', 'file', 'computing', 'discuss', 'write']\n"
     ]
    }
   ],
   "source": [
    "print(common_column)"
   ]
  },
  {
   "cell_type": "code",
   "execution_count": 32,
   "metadata": {
    "colab": {
     "base_uri": "https://localhost:8080/"
    },
    "id": "iVuJ4Fmbm-cM",
    "outputId": "8d3e8bb4-58ca-4b2e-d0ef-046eadb161fd"
   },
   "outputs": [
    {
     "data": {
      "text/plain": [
       "66"
      ]
     },
     "execution_count": 32,
     "metadata": {},
     "output_type": "execute_result"
    }
   ],
   "source": [
    "len(common_column)"
   ]
  },
  {
   "cell_type": "code",
   "execution_count": 33,
   "metadata": {
    "id": "Q8J85w03XrKF"
   },
   "outputs": [],
   "source": [
    "# Filter the common column values from the CLO table\n",
    "U3 = U2.filter(list(common_column), axis=1)"
   ]
  },
  {
   "cell_type": "code",
   "execution_count": 34,
   "metadata": {
    "colab": {
     "base_uri": "https://localhost:8080/",
     "height": 331
    },
    "id": "AeqnATgZnh6y",
    "outputId": "d904ef48-d05d-4193-dffa-c27e040fd887"
   },
   "outputs": [
    {
     "data": {
      "text/html": [
       "<div><div id=8aad57a6-8c49-45e4-a3c2-410f97d9b86d style=\"display:none; background-color:#9D6CFF; color:white; width:200px; height:30px; padding-left:5px; border-radius:4px; flex-direction:row; justify-content:space-around; align-items:center;\" onmouseover=\"this.style.backgroundColor='#BA9BF8'\" onmouseout=\"this.style.backgroundColor='#9D6CFF'\" onclick=\"window.commands?.execute('create-mitosheet-from-dataframe-output');\">See Full Dataframe in Mito</div> <script> if (window.commands.hasCommand('create-mitosheet-from-dataframe-output')) document.getElementById('8aad57a6-8c49-45e4-a3c2-410f97d9b86d').style.display = 'flex' </script> <table border=\"1\" class=\"dataframe\">\n",
       "  <thead>\n",
       "    <tr style=\"text-align: right;\">\n",
       "      <th></th>\n",
       "      <th>make</th>\n",
       "      <th>use</th>\n",
       "      <th>discover</th>\n",
       "      <th>manipulate</th>\n",
       "      <th>complete</th>\n",
       "      <th>customize</th>\n",
       "      <th>design</th>\n",
       "      <th>process</th>\n",
       "      <th>compare</th>\n",
       "      <th>diagram</th>\n",
       "      <th>...</th>\n",
       "      <th>theory</th>\n",
       "      <th>create</th>\n",
       "      <th>function</th>\n",
       "      <th>identify</th>\n",
       "      <th>development</th>\n",
       "      <th>develop</th>\n",
       "      <th>file</th>\n",
       "      <th>computing</th>\n",
       "      <th>discuss</th>\n",
       "      <th>write</th>\n",
       "    </tr>\n",
       "    <tr>\n",
       "      <th>0</th>\n",
       "      <th></th>\n",
       "      <th></th>\n",
       "      <th></th>\n",
       "      <th></th>\n",
       "      <th></th>\n",
       "      <th></th>\n",
       "      <th></th>\n",
       "      <th></th>\n",
       "      <th></th>\n",
       "      <th></th>\n",
       "      <th></th>\n",
       "      <th></th>\n",
       "      <th></th>\n",
       "      <th></th>\n",
       "      <th></th>\n",
       "      <th></th>\n",
       "      <th></th>\n",
       "      <th></th>\n",
       "      <th></th>\n",
       "      <th></th>\n",
       "      <th></th>\n",
       "    </tr>\n",
       "  </thead>\n",
       "  <tbody>\n",
       "    <tr>\n",
       "      <th>C1</th>\n",
       "      <td>0</td>\n",
       "      <td>0</td>\n",
       "      <td>0</td>\n",
       "      <td>0</td>\n",
       "      <td>0</td>\n",
       "      <td>0</td>\n",
       "      <td>0</td>\n",
       "      <td>0</td>\n",
       "      <td>0</td>\n",
       "      <td>0</td>\n",
       "      <td>...</td>\n",
       "      <td>0</td>\n",
       "      <td>0</td>\n",
       "      <td>0</td>\n",
       "      <td>0</td>\n",
       "      <td>0</td>\n",
       "      <td>0</td>\n",
       "      <td>0</td>\n",
       "      <td>0</td>\n",
       "      <td>0</td>\n",
       "      <td>0</td>\n",
       "    </tr>\n",
       "    <tr>\n",
       "      <th>C2</th>\n",
       "      <td>0</td>\n",
       "      <td>0</td>\n",
       "      <td>0</td>\n",
       "      <td>0</td>\n",
       "      <td>0</td>\n",
       "      <td>0</td>\n",
       "      <td>0</td>\n",
       "      <td>0</td>\n",
       "      <td>0</td>\n",
       "      <td>0</td>\n",
       "      <td>...</td>\n",
       "      <td>0</td>\n",
       "      <td>0</td>\n",
       "      <td>0</td>\n",
       "      <td>0</td>\n",
       "      <td>0</td>\n",
       "      <td>0</td>\n",
       "      <td>0</td>\n",
       "      <td>0</td>\n",
       "      <td>0</td>\n",
       "      <td>0</td>\n",
       "    </tr>\n",
       "    <tr>\n",
       "      <th>C3</th>\n",
       "      <td>0</td>\n",
       "      <td>0</td>\n",
       "      <td>0</td>\n",
       "      <td>0</td>\n",
       "      <td>0</td>\n",
       "      <td>0</td>\n",
       "      <td>0</td>\n",
       "      <td>0</td>\n",
       "      <td>0</td>\n",
       "      <td>0</td>\n",
       "      <td>...</td>\n",
       "      <td>0</td>\n",
       "      <td>0</td>\n",
       "      <td>0</td>\n",
       "      <td>0</td>\n",
       "      <td>0</td>\n",
       "      <td>0</td>\n",
       "      <td>0</td>\n",
       "      <td>0</td>\n",
       "      <td>0</td>\n",
       "      <td>0</td>\n",
       "    </tr>\n",
       "    <tr>\n",
       "      <th>C4</th>\n",
       "      <td>0</td>\n",
       "      <td>0</td>\n",
       "      <td>0</td>\n",
       "      <td>0</td>\n",
       "      <td>0</td>\n",
       "      <td>0</td>\n",
       "      <td>0</td>\n",
       "      <td>0</td>\n",
       "      <td>0</td>\n",
       "      <td>0</td>\n",
       "      <td>...</td>\n",
       "      <td>0</td>\n",
       "      <td>0</td>\n",
       "      <td>0</td>\n",
       "      <td>0</td>\n",
       "      <td>0</td>\n",
       "      <td>0</td>\n",
       "      <td>0</td>\n",
       "      <td>0</td>\n",
       "      <td>0</td>\n",
       "      <td>0</td>\n",
       "    </tr>\n",
       "    <tr>\n",
       "      <th>C5</th>\n",
       "      <td>0</td>\n",
       "      <td>0</td>\n",
       "      <td>0</td>\n",
       "      <td>0</td>\n",
       "      <td>0</td>\n",
       "      <td>0</td>\n",
       "      <td>0</td>\n",
       "      <td>1</td>\n",
       "      <td>0</td>\n",
       "      <td>0</td>\n",
       "      <td>...</td>\n",
       "      <td>0</td>\n",
       "      <td>0</td>\n",
       "      <td>0</td>\n",
       "      <td>0</td>\n",
       "      <td>0</td>\n",
       "      <td>0</td>\n",
       "      <td>0</td>\n",
       "      <td>0</td>\n",
       "      <td>0</td>\n",
       "      <td>0</td>\n",
       "    </tr>\n",
       "  </tbody>\n",
       "</table></div>"
      ],
      "text/plain": [
       "    make  use  discover  manipulate  complete  customize  design  process  \\\n",
       "0                                                                           \n",
       "C1     0    0         0           0         0          0       0        0   \n",
       "C2     0    0         0           0         0          0       0        0   \n",
       "C3     0    0         0           0         0          0       0        0   \n",
       "C4     0    0         0           0         0          0       0        0   \n",
       "C5     0    0         0           0         0          0       0        1   \n",
       "\n",
       "    compare  diagram  ...  theory  create  function  identify  development  \\\n",
       "0                     ...                                                    \n",
       "C1        0        0  ...       0       0         0         0            0   \n",
       "C2        0        0  ...       0       0         0         0            0   \n",
       "C3        0        0  ...       0       0         0         0            0   \n",
       "C4        0        0  ...       0       0         0         0            0   \n",
       "C5        0        0  ...       0       0         0         0            0   \n",
       "\n",
       "    develop  file  computing  discuss  write  \n",
       "0                                             \n",
       "C1        0     0          0        0      0  \n",
       "C2        0     0          0        0      0  \n",
       "C3        0     0          0        0      0  \n",
       "C4        0     0          0        0      0  \n",
       "C5        0     0          0        0      0  \n",
       "\n",
       "[5 rows x 66 columns]"
      ]
     },
     "execution_count": 34,
     "metadata": {},
     "output_type": "execute_result"
    }
   ],
   "source": [
    "U3.head()"
   ]
  },
  {
   "cell_type": "code",
   "execution_count": 35,
   "metadata": {
    "id": "sYTk-s3xXrM9"
   },
   "outputs": [],
   "source": [
    "# extracting first row from PLO table and make a dataframe\n",
    "Cs = []\n",
    "for x in range(len(df)):\n",
    "    Cs.append(U1.loc[['P'+str(x+1)]])"
   ]
  },
  {
   "cell_type": "code",
   "execution_count": 36,
   "metadata": {
    "id": "Gvd0fUR7XrPt"
   },
   "outputs": [],
   "source": [
    "# Concatenating these extracted each PLOs with 'n' number of CLOs\n",
    "Dds = []\n",
    "for x in range(len(df)):\n",
    "    Dds.append(pd.concat([Cs[x],U3], sort=True))"
   ]
  },
  {
   "cell_type": "code",
   "execution_count": 37,
   "metadata": {
    "id": "U5FwB5bFXrS9"
   },
   "outputs": [],
   "source": [
    "# Filling the nan values of the concatenated dataframes\n",
    "Ds = []\n",
    "for x in range(len(df)):\n",
    "    Ds.append(Dds[x].fillna(0))"
   ]
  },
  {
   "cell_type": "markdown",
   "metadata": {
    "id": "WLA3uqpeY9ZI"
   },
   "source": [
    "## Calculate Cosine similarity"
   ]
  },
  {
   "cell_type": "code",
   "execution_count": 38,
   "metadata": {
    "id": "AyzKblfgY725"
   },
   "outputs": [],
   "source": [
    "# Calculate cosine similarity for concatenated dataframes and create a new dataframe\n",
    "for x in range(len(df)):\n",
    "    Dds[x] = pd.DataFrame(cosine_similarity(Ds[x], dense_output=True))"
   ]
  },
  {
   "cell_type": "code",
   "execution_count": 39,
   "metadata": {
    "id": "Y7bh2VScY76R"
   },
   "outputs": [],
   "source": [
    "# Extract the '0'th column because it has the CLO-PLO  cosine similarity values. We are neglecting the remaining ones.\n",
    "# Renaming the '0'th column name to 'Pn' ['P1, P2, P3, P4, ... 'Pn']\n",
    "for x in range(len(df)):\n",
    "    Dds[x].rename(columns = {0 :'P'+str(x+1)}, inplace = True)\n"
   ]
  },
  {
   "cell_type": "code",
   "execution_count": 40,
   "metadata": {
    "id": "fJssCZmHZGDR"
   },
   "outputs": [],
   "source": [
    "# Concatenating each  '0'th column from different cosine similarity dataframes\n",
    "Ddn = []\n",
    "for x in range(len(df)):\n",
    "    Ddn.append(Dds[x]['P'+str(x+1)])\n",
    "\n",
    "d = pd.concat(Ddn, axis=1)"
   ]
  },
  {
   "cell_type": "code",
   "execution_count": 41,
   "metadata": {
    "id": "K5psrdOTZGGZ"
   },
   "outputs": [],
   "source": [
    "# '0'th column gives us 1 which means each PLO map with own PLO.\n",
    "# So we are removing that column.\n",
    "dd = d[1:]"
   ]
  },
  {
   "cell_type": "code",
   "execution_count": 42,
   "metadata": {
    "colab": {
     "base_uri": "https://localhost:8080/"
    },
    "id": "KTxJ9O07ZGJr",
    "outputId": "5af1e75c-4145-463b-9d9a-3ffd84287cc1"
   },
   "outputs": [
    {
     "name": "stderr",
     "output_type": "stream",
     "text": [
      "C:\\Users\\nzaki\\anaconda3\\lib\\site-packages\\pandas\\core\\frame.py:4906: SettingWithCopyWarning: \n",
      "A value is trying to be set on a copy of a slice from a DataFrame\n",
      "\n",
      "See the caveats in the documentation: https://pandas.pydata.org/pandas-docs/stable/user_guide/indexing.html#returning-a-view-versus-a-copy\n",
      "  return super().drop(\n"
     ]
    }
   ],
   "source": [
    "# resetting index\n",
    "dd.reset_index(inplace = True)\n",
    "dd.drop(['index'], axis=1, inplace = True)"
   ]
  },
  {
   "cell_type": "code",
   "execution_count": 43,
   "metadata": {
    "id": "_6IQRKhUjvbM"
   },
   "outputs": [],
   "source": [
    "# store the matrix into csv file\n",
    "dd.to_csv('pseudocodematrix.csv', index=False)"
   ]
  },
  {
   "cell_type": "code",
   "execution_count": 44,
   "metadata": {
    "colab": {
     "base_uri": "https://localhost:8080/"
    },
    "id": "FfqgcF23j3-r",
    "outputId": "1e948e88-7d70-42bc-a5bf-8f26c9f6eda5"
   },
   "outputs": [
    {
     "name": "stdout",
     "output_type": "stream",
     "text": [
      "           P1        P2        P3        P4        P5        P6\n",
      "0    0.000000  0.000000  0.000000  0.000000  0.000000  0.000000\n",
      "1    0.277350  0.000000  0.000000  0.000000  0.000000  0.301511\n",
      "2    0.000000  0.000000  0.000000  0.000000  0.000000  0.000000\n",
      "3    0.160128  0.144338  0.000000  0.000000  0.000000  0.000000\n",
      "4    0.160128  0.000000  0.000000  0.166667  0.000000  0.000000\n",
      "..        ...       ...       ...       ...       ...       ...\n",
      "127  0.000000  0.000000  0.223607  0.144338  0.158114  0.000000\n",
      "128  0.196116  0.441942  0.000000  0.102062  0.111803  0.319801\n",
      "129  0.124035  0.000000  0.000000  0.000000  0.000000  0.539360\n",
      "130  0.000000  0.000000  0.000000  0.000000  0.000000  0.348155\n",
      "131  0.000000  0.000000  0.258199  0.000000  0.365148  0.000000\n",
      "\n",
      "[132 rows x 6 columns]\n"
     ]
    }
   ],
   "source": [
    "# print the matrix\n",
    "print(dd)"
   ]
  },
  {
   "cell_type": "markdown",
   "metadata": {
    "id": "JYhDRATaZU3Y"
   },
   "source": [
    "## Setting threshold value (taking min and max of each column and divided by 2)\n",
    "## threshold value = (min +max)/2"
   ]
  },
  {
   "cell_type": "code",
   "execution_count": 45,
   "metadata": {
    "colab": {
     "base_uri": "https://localhost:8080/"
    },
    "id": "OUqMq9LoZGMj",
    "outputId": "4c008335-10b4-41b8-a2b6-bdbc6c2ebe89"
   },
   "outputs": [
    {
     "name": "stderr",
     "output_type": "stream",
     "text": [
      "C:\\Users\\nzaki\\AppData\\Local\\Temp/ipykernel_15072/3147605463.py:10: SettingWithCopyWarning: \n",
      "A value is trying to be set on a copy of a slice from a DataFrame.\n",
      "Try using .loc[row_indexer,col_indexer] = value instead\n",
      "\n",
      "See the caveats in the documentation: https://pandas.pydata.org/pandas-docs/stable/user_guide/indexing.html#returning-a-view-versus-a-copy\n",
      "  dd['P'+str(x+1)] = dd['P'+str(x+1)].apply(lambda x: 1 if x >= tt1 else 0)\n"
     ]
    }
   ],
   "source": [
    "# Setting threshold value \n",
    "# Taking min max average of each column and set that as a threshold value\n",
    "for x in range(len(df)):\n",
    "    tes = dd['P'+str(x+1)].values.min()\n",
    "    tes1 = dd['P'+str(x+1)].values.max()\n",
    "    tt1 = (tes+tes1)/2\n",
    "    if tt1 == 0:\n",
    "      dd['P'+str(x+1)] = dd['P'+str(x+1)] \n",
    "    else:\n",
    "      dd['P'+str(x+1)] = dd['P'+str(x+1)].apply(lambda x: 1 if x >= tt1 else 0)"
   ]
  },
  {
   "cell_type": "code",
   "execution_count": 46,
   "metadata": {
    "id": "t1V7uvAxZGPR"
   },
   "outputs": [],
   "source": [
    "dd.to_csv('PLO-CLOmapping.csv', index=False)"
   ]
  },
  {
   "cell_type": "code",
   "execution_count": 47,
   "metadata": {
    "colab": {
     "base_uri": "https://localhost:8080/",
     "height": 206
    },
    "id": "0MmjZwIBo05H",
    "outputId": "f1c5ee61-074f-4df0-aa58-19e4a6fc2566"
   },
   "outputs": [
    {
     "data": {
      "text/html": [
       "<div><div id=1004b57e-0826-444e-a4a0-0b627781f7bf style=\"display:none; background-color:#9D6CFF; color:white; width:200px; height:30px; padding-left:5px; border-radius:4px; flex-direction:row; justify-content:space-around; align-items:center;\" onmouseover=\"this.style.backgroundColor='#BA9BF8'\" onmouseout=\"this.style.backgroundColor='#9D6CFF'\" onclick=\"window.commands?.execute('create-mitosheet-from-dataframe-output');\">See Full Dataframe in Mito</div> <script> if (window.commands.hasCommand('create-mitosheet-from-dataframe-output')) document.getElementById('1004b57e-0826-444e-a4a0-0b627781f7bf').style.display = 'flex' </script> <table border=\"1\" class=\"dataframe\">\n",
       "  <thead>\n",
       "    <tr style=\"text-align: right;\">\n",
       "      <th></th>\n",
       "      <th>P1</th>\n",
       "      <th>P2</th>\n",
       "      <th>P3</th>\n",
       "      <th>P4</th>\n",
       "      <th>P5</th>\n",
       "      <th>P6</th>\n",
       "    </tr>\n",
       "  </thead>\n",
       "  <tbody>\n",
       "    <tr>\n",
       "      <th>0</th>\n",
       "      <td>0</td>\n",
       "      <td>0</td>\n",
       "      <td>0</td>\n",
       "      <td>0</td>\n",
       "      <td>0</td>\n",
       "      <td>0</td>\n",
       "    </tr>\n",
       "    <tr>\n",
       "      <th>1</th>\n",
       "      <td>1</td>\n",
       "      <td>0</td>\n",
       "      <td>0</td>\n",
       "      <td>0</td>\n",
       "      <td>0</td>\n",
       "      <td>1</td>\n",
       "    </tr>\n",
       "    <tr>\n",
       "      <th>2</th>\n",
       "      <td>0</td>\n",
       "      <td>0</td>\n",
       "      <td>0</td>\n",
       "      <td>0</td>\n",
       "      <td>0</td>\n",
       "      <td>0</td>\n",
       "    </tr>\n",
       "    <tr>\n",
       "      <th>3</th>\n",
       "      <td>0</td>\n",
       "      <td>0</td>\n",
       "      <td>0</td>\n",
       "      <td>0</td>\n",
       "      <td>0</td>\n",
       "      <td>0</td>\n",
       "    </tr>\n",
       "    <tr>\n",
       "      <th>4</th>\n",
       "      <td>0</td>\n",
       "      <td>0</td>\n",
       "      <td>0</td>\n",
       "      <td>1</td>\n",
       "      <td>0</td>\n",
       "      <td>0</td>\n",
       "    </tr>\n",
       "  </tbody>\n",
       "</table></div>"
      ],
      "text/plain": [
       "   P1  P2  P3  P4  P5  P6\n",
       "0   0   0   0   0   0   0\n",
       "1   1   0   0   0   0   1\n",
       "2   0   0   0   0   0   0\n",
       "3   0   0   0   0   0   0\n",
       "4   0   0   0   1   0   0"
      ]
     },
     "execution_count": 47,
     "metadata": {},
     "output_type": "execute_result"
    }
   ],
   "source": [
    "dd.head()"
   ]
  },
  {
   "cell_type": "code",
   "execution_count": 48,
   "metadata": {
    "colab": {
     "base_uri": "https://localhost:8080/",
     "height": 206
    },
    "id": "nQWRhdsfo1pX",
    "outputId": "c75e374d-17a3-4005-d3d1-49438be48ddf"
   },
   "outputs": [
    {
     "data": {
      "text/html": [
       "<div><div id=cb0f6e02-260c-4652-a0bf-1e73360744ea style=\"display:none; background-color:#9D6CFF; color:white; width:200px; height:30px; padding-left:5px; border-radius:4px; flex-direction:row; justify-content:space-around; align-items:center;\" onmouseover=\"this.style.backgroundColor='#BA9BF8'\" onmouseout=\"this.style.backgroundColor='#9D6CFF'\" onclick=\"window.commands?.execute('create-mitosheet-from-dataframe-output');\">See Full Dataframe in Mito</div> <script> if (window.commands.hasCommand('create-mitosheet-from-dataframe-output')) document.getElementById('cb0f6e02-260c-4652-a0bf-1e73360744ea').style.display = 'flex' </script> <table border=\"1\" class=\"dataframe\">\n",
       "  <thead>\n",
       "    <tr style=\"text-align: right;\">\n",
       "      <th></th>\n",
       "      <th>P1</th>\n",
       "      <th>P2</th>\n",
       "      <th>P3</th>\n",
       "      <th>P4</th>\n",
       "      <th>P5</th>\n",
       "      <th>P6</th>\n",
       "    </tr>\n",
       "  </thead>\n",
       "  <tbody>\n",
       "    <tr>\n",
       "      <th>0</th>\n",
       "      <td>0</td>\n",
       "      <td>0</td>\n",
       "      <td>0</td>\n",
       "      <td>0</td>\n",
       "      <td>0</td>\n",
       "      <td>0</td>\n",
       "    </tr>\n",
       "    <tr>\n",
       "      <th>1</th>\n",
       "      <td>0</td>\n",
       "      <td>0</td>\n",
       "      <td>0</td>\n",
       "      <td>0</td>\n",
       "      <td>0</td>\n",
       "      <td>1</td>\n",
       "    </tr>\n",
       "    <tr>\n",
       "      <th>2</th>\n",
       "      <td>0</td>\n",
       "      <td>1</td>\n",
       "      <td>0</td>\n",
       "      <td>0</td>\n",
       "      <td>0</td>\n",
       "      <td>0</td>\n",
       "    </tr>\n",
       "    <tr>\n",
       "      <th>3</th>\n",
       "      <td>0</td>\n",
       "      <td>1</td>\n",
       "      <td>0</td>\n",
       "      <td>0</td>\n",
       "      <td>0</td>\n",
       "      <td>0</td>\n",
       "    </tr>\n",
       "    <tr>\n",
       "      <th>4</th>\n",
       "      <td>0</td>\n",
       "      <td>0</td>\n",
       "      <td>0</td>\n",
       "      <td>0</td>\n",
       "      <td>0</td>\n",
       "      <td>0</td>\n",
       "    </tr>\n",
       "  </tbody>\n",
       "</table></div>"
      ],
      "text/plain": [
       "   P1  P2  P3  P4  P5  P6\n",
       "0   0   0   0   0   0   0\n",
       "1   0   0   0   0   0   1\n",
       "2   0   1   0   0   0   0\n",
       "3   0   1   0   0   0   0\n",
       "4   0   0   0   0   0   0"
      ]
     },
     "execution_count": 48,
     "metadata": {},
     "output_type": "execute_result"
    }
   ],
   "source": [
    "# human generated output\n",
    "d= pd.read_csv('original.csv')\n",
    "d.head()"
   ]
  },
  {
   "cell_type": "code",
   "execution_count": 49,
   "metadata": {
    "id": "_I05ih9go1s-"
   },
   "outputs": [],
   "source": [
    "df3 = d.copy()"
   ]
  },
  {
   "cell_type": "code",
   "execution_count": 50,
   "metadata": {
    "id": "n6YEK04Ko1we"
   },
   "outputs": [],
   "source": [
    "for x in range(len(df)):\n",
    "  df3['P'+str(x+1)] = np.where(dd['P'+str(x+1)] == df3['P'+str(x+1)], 'True', 'False')"
   ]
  },
  {
   "cell_type": "code",
   "execution_count": 51,
   "metadata": {
    "colab": {
     "base_uri": "https://localhost:8080/",
     "height": 206
    },
    "id": "8FOKLSmFo1zO",
    "outputId": "8383f47b-bd17-4cdb-9bc2-a2cd491cd082"
   },
   "outputs": [
    {
     "data": {
      "text/html": [
       "<div><div id=b7dd9c0c-2b62-4bc7-8f29-e112a9448d05 style=\"display:none; background-color:#9D6CFF; color:white; width:200px; height:30px; padding-left:5px; border-radius:4px; flex-direction:row; justify-content:space-around; align-items:center;\" onmouseover=\"this.style.backgroundColor='#BA9BF8'\" onmouseout=\"this.style.backgroundColor='#9D6CFF'\" onclick=\"window.commands?.execute('create-mitosheet-from-dataframe-output');\">See Full Dataframe in Mito</div> <script> if (window.commands.hasCommand('create-mitosheet-from-dataframe-output')) document.getElementById('b7dd9c0c-2b62-4bc7-8f29-e112a9448d05').style.display = 'flex' </script> <table border=\"1\" class=\"dataframe\">\n",
       "  <thead>\n",
       "    <tr style=\"text-align: right;\">\n",
       "      <th></th>\n",
       "      <th>P1</th>\n",
       "      <th>P2</th>\n",
       "      <th>P3</th>\n",
       "      <th>P4</th>\n",
       "      <th>P5</th>\n",
       "      <th>P6</th>\n",
       "    </tr>\n",
       "  </thead>\n",
       "  <tbody>\n",
       "    <tr>\n",
       "      <th>0</th>\n",
       "      <td>True</td>\n",
       "      <td>True</td>\n",
       "      <td>True</td>\n",
       "      <td>True</td>\n",
       "      <td>True</td>\n",
       "      <td>True</td>\n",
       "    </tr>\n",
       "    <tr>\n",
       "      <th>1</th>\n",
       "      <td>False</td>\n",
       "      <td>True</td>\n",
       "      <td>True</td>\n",
       "      <td>True</td>\n",
       "      <td>True</td>\n",
       "      <td>True</td>\n",
       "    </tr>\n",
       "    <tr>\n",
       "      <th>2</th>\n",
       "      <td>True</td>\n",
       "      <td>False</td>\n",
       "      <td>True</td>\n",
       "      <td>True</td>\n",
       "      <td>True</td>\n",
       "      <td>True</td>\n",
       "    </tr>\n",
       "    <tr>\n",
       "      <th>3</th>\n",
       "      <td>True</td>\n",
       "      <td>False</td>\n",
       "      <td>True</td>\n",
       "      <td>True</td>\n",
       "      <td>True</td>\n",
       "      <td>True</td>\n",
       "    </tr>\n",
       "    <tr>\n",
       "      <th>4</th>\n",
       "      <td>True</td>\n",
       "      <td>True</td>\n",
       "      <td>True</td>\n",
       "      <td>False</td>\n",
       "      <td>True</td>\n",
       "      <td>True</td>\n",
       "    </tr>\n",
       "  </tbody>\n",
       "</table></div>"
      ],
      "text/plain": [
       "      P1     P2    P3     P4    P5    P6\n",
       "0   True   True  True   True  True  True\n",
       "1  False   True  True   True  True  True\n",
       "2   True  False  True   True  True  True\n",
       "3   True  False  True   True  True  True\n",
       "4   True   True  True  False  True  True"
      ]
     },
     "execution_count": 51,
     "metadata": {},
     "output_type": "execute_result"
    }
   ],
   "source": [
    "df3.head()"
   ]
  },
  {
   "cell_type": "code",
   "execution_count": 52,
   "metadata": {
    "id": "J9fhnvqeo12P"
   },
   "outputs": [],
   "source": [
    "for x in range(len(df)):\n",
    "  df3['P'+str(x+1)] = df3['P'+str(x+1)].replace('True', 1)\n",
    "  df3['P'+str(x+1)] = df3['P'+str(x+1)].replace('False', 0)"
   ]
  },
  {
   "cell_type": "code",
   "execution_count": 53,
   "metadata": {
    "colab": {
     "base_uri": "https://localhost:8080/",
     "height": 206
    },
    "id": "vML-4JNUo15u",
    "outputId": "c32db157-b88b-43f8-d0cc-d3632146294c"
   },
   "outputs": [
    {
     "data": {
      "text/html": [
       "<div><div id=f34e9ecc-af8c-44ab-8f26-671972497af9 style=\"display:none; background-color:#9D6CFF; color:white; width:200px; height:30px; padding-left:5px; border-radius:4px; flex-direction:row; justify-content:space-around; align-items:center;\" onmouseover=\"this.style.backgroundColor='#BA9BF8'\" onmouseout=\"this.style.backgroundColor='#9D6CFF'\" onclick=\"window.commands?.execute('create-mitosheet-from-dataframe-output');\">See Full Dataframe in Mito</div> <script> if (window.commands.hasCommand('create-mitosheet-from-dataframe-output')) document.getElementById('f34e9ecc-af8c-44ab-8f26-671972497af9').style.display = 'flex' </script> <table border=\"1\" class=\"dataframe\">\n",
       "  <thead>\n",
       "    <tr style=\"text-align: right;\">\n",
       "      <th></th>\n",
       "      <th>P1</th>\n",
       "      <th>P2</th>\n",
       "      <th>P3</th>\n",
       "      <th>P4</th>\n",
       "      <th>P5</th>\n",
       "      <th>P6</th>\n",
       "    </tr>\n",
       "  </thead>\n",
       "  <tbody>\n",
       "    <tr>\n",
       "      <th>0</th>\n",
       "      <td>1</td>\n",
       "      <td>1</td>\n",
       "      <td>1</td>\n",
       "      <td>1</td>\n",
       "      <td>1</td>\n",
       "      <td>1</td>\n",
       "    </tr>\n",
       "    <tr>\n",
       "      <th>1</th>\n",
       "      <td>0</td>\n",
       "      <td>1</td>\n",
       "      <td>1</td>\n",
       "      <td>1</td>\n",
       "      <td>1</td>\n",
       "      <td>1</td>\n",
       "    </tr>\n",
       "    <tr>\n",
       "      <th>2</th>\n",
       "      <td>1</td>\n",
       "      <td>0</td>\n",
       "      <td>1</td>\n",
       "      <td>1</td>\n",
       "      <td>1</td>\n",
       "      <td>1</td>\n",
       "    </tr>\n",
       "    <tr>\n",
       "      <th>3</th>\n",
       "      <td>1</td>\n",
       "      <td>0</td>\n",
       "      <td>1</td>\n",
       "      <td>1</td>\n",
       "      <td>1</td>\n",
       "      <td>1</td>\n",
       "    </tr>\n",
       "    <tr>\n",
       "      <th>4</th>\n",
       "      <td>1</td>\n",
       "      <td>1</td>\n",
       "      <td>1</td>\n",
       "      <td>0</td>\n",
       "      <td>1</td>\n",
       "      <td>1</td>\n",
       "    </tr>\n",
       "  </tbody>\n",
       "</table></div>"
      ],
      "text/plain": [
       "   P1  P2  P3  P4  P5  P6\n",
       "0   1   1   1   1   1   1\n",
       "1   0   1   1   1   1   1\n",
       "2   1   0   1   1   1   1\n",
       "3   1   0   1   1   1   1\n",
       "4   1   1   1   0   1   1"
      ]
     },
     "execution_count": 53,
     "metadata": {},
     "output_type": "execute_result"
    }
   ],
   "source": [
    "df3.head()"
   ]
  },
  {
   "cell_type": "code",
   "execution_count": 54,
   "metadata": {
    "colab": {
     "base_uri": "https://localhost:8080/",
     "height": 206
    },
    "id": "tANDI1-6pBeH",
    "outputId": "e815045e-ceab-45b5-ef45-7f3db3a7ce34"
   },
   "outputs": [
    {
     "data": {
      "text/html": [
       "<div><div id=fadced6a-8edf-4105-a689-bb3d318e90f3 style=\"display:none; background-color:#9D6CFF; color:white; width:200px; height:30px; padding-left:5px; border-radius:4px; flex-direction:row; justify-content:space-around; align-items:center;\" onmouseover=\"this.style.backgroundColor='#BA9BF8'\" onmouseout=\"this.style.backgroundColor='#9D6CFF'\" onclick=\"window.commands?.execute('create-mitosheet-from-dataframe-output');\">See Full Dataframe in Mito</div> <script> if (window.commands.hasCommand('create-mitosheet-from-dataframe-output')) document.getElementById('fadced6a-8edf-4105-a689-bb3d318e90f3').style.display = 'flex' </script> <table border=\"1\" class=\"dataframe\">\n",
       "  <thead>\n",
       "    <tr style=\"text-align: right;\">\n",
       "      <th></th>\n",
       "      <th>P1</th>\n",
       "      <th>P2</th>\n",
       "      <th>P3</th>\n",
       "      <th>P4</th>\n",
       "      <th>P5</th>\n",
       "      <th>P6</th>\n",
       "      <th>acc</th>\n",
       "    </tr>\n",
       "  </thead>\n",
       "  <tbody>\n",
       "    <tr>\n",
       "      <th>0</th>\n",
       "      <td>1</td>\n",
       "      <td>1</td>\n",
       "      <td>1</td>\n",
       "      <td>1</td>\n",
       "      <td>1</td>\n",
       "      <td>1</td>\n",
       "      <td>1.000000</td>\n",
       "    </tr>\n",
       "    <tr>\n",
       "      <th>1</th>\n",
       "      <td>0</td>\n",
       "      <td>1</td>\n",
       "      <td>1</td>\n",
       "      <td>1</td>\n",
       "      <td>1</td>\n",
       "      <td>1</td>\n",
       "      <td>0.833333</td>\n",
       "    </tr>\n",
       "    <tr>\n",
       "      <th>2</th>\n",
       "      <td>1</td>\n",
       "      <td>0</td>\n",
       "      <td>1</td>\n",
       "      <td>1</td>\n",
       "      <td>1</td>\n",
       "      <td>1</td>\n",
       "      <td>0.833333</td>\n",
       "    </tr>\n",
       "    <tr>\n",
       "      <th>3</th>\n",
       "      <td>1</td>\n",
       "      <td>0</td>\n",
       "      <td>1</td>\n",
       "      <td>1</td>\n",
       "      <td>1</td>\n",
       "      <td>1</td>\n",
       "      <td>0.833333</td>\n",
       "    </tr>\n",
       "    <tr>\n",
       "      <th>4</th>\n",
       "      <td>1</td>\n",
       "      <td>1</td>\n",
       "      <td>1</td>\n",
       "      <td>0</td>\n",
       "      <td>1</td>\n",
       "      <td>1</td>\n",
       "      <td>0.833333</td>\n",
       "    </tr>\n",
       "  </tbody>\n",
       "</table></div>"
      ],
      "text/plain": [
       "   P1  P2  P3  P4  P5  P6       acc\n",
       "0   1   1   1   1   1   1  1.000000\n",
       "1   0   1   1   1   1   1  0.833333\n",
       "2   1   0   1   1   1   1  0.833333\n",
       "3   1   0   1   1   1   1  0.833333\n",
       "4   1   1   1   0   1   1  0.833333"
      ]
     },
     "execution_count": 54,
     "metadata": {},
     "output_type": "execute_result"
    }
   ],
   "source": [
    "# calculating accuracy of the table\n",
    "df3['acc'] = df3.mean(axis=1)\n",
    "df3.head()"
   ]
  },
  {
   "cell_type": "code",
   "execution_count": 55,
   "metadata": {
    "colab": {
     "base_uri": "https://localhost:8080/",
     "height": 206
    },
    "id": "NSSFJ-0ppBhX",
    "outputId": "70654783-735c-474e-f592-dc5605a085a0"
   },
   "outputs": [
    {
     "data": {
      "text/html": [
       "<div><div id=eb8d3960-2736-499c-9982-c8fe1da58eb7 style=\"display:none; background-color:#9D6CFF; color:white; width:200px; height:30px; padding-left:5px; border-radius:4px; flex-direction:row; justify-content:space-around; align-items:center;\" onmouseover=\"this.style.backgroundColor='#BA9BF8'\" onmouseout=\"this.style.backgroundColor='#9D6CFF'\" onclick=\"window.commands?.execute('create-mitosheet-from-dataframe-output');\">See Full Dataframe in Mito</div> <script> if (window.commands.hasCommand('create-mitosheet-from-dataframe-output')) document.getElementById('eb8d3960-2736-499c-9982-c8fe1da58eb7').style.display = 'flex' </script> <table border=\"1\" class=\"dataframe\">\n",
       "  <thead>\n",
       "    <tr style=\"text-align: right;\">\n",
       "      <th></th>\n",
       "      <th>0</th>\n",
       "      <th>P1</th>\n",
       "      <th>P2</th>\n",
       "      <th>P3</th>\n",
       "      <th>P4</th>\n",
       "      <th>P5</th>\n",
       "      <th>P6</th>\n",
       "      <th>acc</th>\n",
       "    </tr>\n",
       "  </thead>\n",
       "  <tbody>\n",
       "    <tr>\n",
       "      <th>0</th>\n",
       "      <td>C1</td>\n",
       "      <td>1</td>\n",
       "      <td>1</td>\n",
       "      <td>1</td>\n",
       "      <td>1</td>\n",
       "      <td>1</td>\n",
       "      <td>1</td>\n",
       "      <td>1.000000</td>\n",
       "    </tr>\n",
       "    <tr>\n",
       "      <th>1</th>\n",
       "      <td>C2</td>\n",
       "      <td>0</td>\n",
       "      <td>1</td>\n",
       "      <td>1</td>\n",
       "      <td>1</td>\n",
       "      <td>1</td>\n",
       "      <td>1</td>\n",
       "      <td>0.833333</td>\n",
       "    </tr>\n",
       "    <tr>\n",
       "      <th>2</th>\n",
       "      <td>C3</td>\n",
       "      <td>1</td>\n",
       "      <td>0</td>\n",
       "      <td>1</td>\n",
       "      <td>1</td>\n",
       "      <td>1</td>\n",
       "      <td>1</td>\n",
       "      <td>0.833333</td>\n",
       "    </tr>\n",
       "    <tr>\n",
       "      <th>3</th>\n",
       "      <td>C4</td>\n",
       "      <td>1</td>\n",
       "      <td>0</td>\n",
       "      <td>1</td>\n",
       "      <td>1</td>\n",
       "      <td>1</td>\n",
       "      <td>1</td>\n",
       "      <td>0.833333</td>\n",
       "    </tr>\n",
       "    <tr>\n",
       "      <th>4</th>\n",
       "      <td>C5</td>\n",
       "      <td>1</td>\n",
       "      <td>1</td>\n",
       "      <td>1</td>\n",
       "      <td>0</td>\n",
       "      <td>1</td>\n",
       "      <td>1</td>\n",
       "      <td>0.833333</td>\n",
       "    </tr>\n",
       "  </tbody>\n",
       "</table></div>"
      ],
      "text/plain": [
       "    0  P1  P2  P3  P4  P5  P6       acc\n",
       "0  C1   1   1   1   1   1   1  1.000000\n",
       "1  C2   0   1   1   1   1   1  0.833333\n",
       "2  C3   1   0   1   1   1   1  0.833333\n",
       "3  C4   1   0   1   1   1   1  0.833333\n",
       "4  C5   1   1   1   0   1   1  0.833333"
      ]
     },
     "execution_count": 55,
     "metadata": {},
     "output_type": "execute_result"
    }
   ],
   "source": [
    "df4 = pd.concat([df1[0], df3], axis=1)\n",
    "df4.head()"
   ]
  },
  {
   "cell_type": "code",
   "execution_count": 56,
   "metadata": {
    "colab": {
     "base_uri": "https://localhost:8080/",
     "height": 237
    },
    "id": "MXK949BmpBkX",
    "outputId": "05f31e23-74d6-4796-bba9-2fb7d04ec44c"
   },
   "outputs": [
    {
     "data": {
      "text/html": [
       "<div><div id=4845a40f-8272-433b-a0f5-b127f36e7c70 style=\"display:none; background-color:#9D6CFF; color:white; width:200px; height:30px; padding-left:5px; border-radius:4px; flex-direction:row; justify-content:space-around; align-items:center;\" onmouseover=\"this.style.backgroundColor='#BA9BF8'\" onmouseout=\"this.style.backgroundColor='#9D6CFF'\" onclick=\"window.commands?.execute('create-mitosheet-from-dataframe-output');\">See Full Dataframe in Mito</div> <script> if (window.commands.hasCommand('create-mitosheet-from-dataframe-output')) document.getElementById('4845a40f-8272-433b-a0f5-b127f36e7c70').style.display = 'flex' </script> <table border=\"1\" class=\"dataframe\">\n",
       "  <thead>\n",
       "    <tr style=\"text-align: right;\">\n",
       "      <th></th>\n",
       "      <th>P1</th>\n",
       "      <th>P2</th>\n",
       "      <th>P3</th>\n",
       "      <th>P4</th>\n",
       "      <th>P5</th>\n",
       "      <th>P6</th>\n",
       "      <th>acc</th>\n",
       "    </tr>\n",
       "    <tr>\n",
       "      <th>0</th>\n",
       "      <th></th>\n",
       "      <th></th>\n",
       "      <th></th>\n",
       "      <th></th>\n",
       "      <th></th>\n",
       "      <th></th>\n",
       "      <th></th>\n",
       "    </tr>\n",
       "  </thead>\n",
       "  <tbody>\n",
       "    <tr>\n",
       "      <th>C1</th>\n",
       "      <td>1</td>\n",
       "      <td>1</td>\n",
       "      <td>1</td>\n",
       "      <td>1</td>\n",
       "      <td>1</td>\n",
       "      <td>1</td>\n",
       "      <td>1.000000</td>\n",
       "    </tr>\n",
       "    <tr>\n",
       "      <th>C2</th>\n",
       "      <td>0</td>\n",
       "      <td>1</td>\n",
       "      <td>1</td>\n",
       "      <td>1</td>\n",
       "      <td>1</td>\n",
       "      <td>1</td>\n",
       "      <td>0.833333</td>\n",
       "    </tr>\n",
       "    <tr>\n",
       "      <th>C3</th>\n",
       "      <td>1</td>\n",
       "      <td>0</td>\n",
       "      <td>1</td>\n",
       "      <td>1</td>\n",
       "      <td>1</td>\n",
       "      <td>1</td>\n",
       "      <td>0.833333</td>\n",
       "    </tr>\n",
       "    <tr>\n",
       "      <th>C4</th>\n",
       "      <td>1</td>\n",
       "      <td>0</td>\n",
       "      <td>1</td>\n",
       "      <td>1</td>\n",
       "      <td>1</td>\n",
       "      <td>1</td>\n",
       "      <td>0.833333</td>\n",
       "    </tr>\n",
       "    <tr>\n",
       "      <th>C5</th>\n",
       "      <td>1</td>\n",
       "      <td>1</td>\n",
       "      <td>1</td>\n",
       "      <td>0</td>\n",
       "      <td>1</td>\n",
       "      <td>1</td>\n",
       "      <td>0.833333</td>\n",
       "    </tr>\n",
       "  </tbody>\n",
       "</table></div>"
      ],
      "text/plain": [
       "    P1  P2  P3  P4  P5  P6       acc\n",
       "0                                   \n",
       "C1   1   1   1   1   1   1  1.000000\n",
       "C2   0   1   1   1   1   1  0.833333\n",
       "C3   1   0   1   1   1   1  0.833333\n",
       "C4   1   0   1   1   1   1  0.833333\n",
       "C5   1   1   1   0   1   1  0.833333"
      ]
     },
     "execution_count": 56,
     "metadata": {},
     "output_type": "execute_result"
    }
   ],
   "source": [
    "df4.set_index(0, inplace=True)\n",
    "df4.head()"
   ]
  },
  {
   "cell_type": "code",
   "execution_count": 57,
   "metadata": {
    "colab": {
     "base_uri": "https://localhost:8080/"
    },
    "id": "gT1jyiUtpBnf",
    "outputId": "32484ddf-a355-4f14-c865-b22e05e9b9dd"
   },
   "outputs": [
    {
     "data": {
      "text/plain": [
       "0.8345959595959591"
      ]
     },
     "execution_count": 57,
     "metadata": {},
     "output_type": "execute_result"
    }
   ],
   "source": [
    "df4['acc'].mean()"
   ]
  }
 ],
 "metadata": {
  "colab": {
   "collapsed_sections": [],
   "name": "CLOPLO_using_(minmax_2)_threshold_value_(pseudocode).ipynb",
   "provenance": []
  },
  "kernelspec": {
   "display_name": "Python 3 (ipykernel)",
   "language": "python",
   "name": "python3"
  },
  "language_info": {
   "codemirror_mode": {
    "name": "ipython",
    "version": 3
   },
   "file_extension": ".py",
   "mimetype": "text/x-python",
   "name": "python",
   "nbconvert_exporter": "python",
   "pygments_lexer": "ipython3",
   "version": "3.9.7"
  }
 },
 "nbformat": 4,
 "nbformat_minor": 1
}
